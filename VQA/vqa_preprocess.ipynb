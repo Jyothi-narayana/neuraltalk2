{
 "cells": [
  {
   "cell_type": "code",
   "execution_count": 1,
   "metadata": {
    "collapsed": true
   },
   "outputs": [],
   "source": [
    "import json\n",
    "# only load trianing data for now \n",
    "train = json.load(open('../../VQA/questions/v2_OpenEnded_mscoco_train2014_questions.json', 'r'))"
   ]
  },
  {
   "cell_type": "code",
   "execution_count": 2,
   "metadata": {
    "collapsed": false
   },
   "outputs": [
    {
     "data": {
      "text/plain": [
       "{u'image_id': 458752,\n",
       " u'question': u'What is this photo taken looking through?',\n",
       " u'question_id': 458752000}"
      ]
     },
     "execution_count": 2,
     "metadata": {},
     "output_type": "execute_result"
    }
   ],
   "source": [
    "train['questions'][0]"
   ]
  },
  {
   "cell_type": "code",
   "execution_count": 18,
   "metadata": {
    "collapsed": false,
    "scrolled": true
   },
   "outputs": [
    {
     "name": "stdout",
     "output_type": "stream",
     "text": [
      "../../VQA/images/train2014/COCO_train2014_524314.jpg\n",
      "Why is the man on the street?\n"
     ]
    }
   ],
   "source": [
    "from IPython.display import Image\n",
    "relative_image_filepath = \"../../VQA/images/train2014/COCO_train2014_\"\n",
    "image_path = relative_image_filepath + str(train['questions'][100]['image_id']) + \".jpg\"\n",
    "print(image_path)\n",
    "subtype = 'train2014'\n",
    "imdir='%s/COCO_%s_%012d.jpg'\n",
    "image_path1 = '../../VQA/images/' + imdir%(subtype, subtype, train['questions'][100]['image_id'])\n",
    "image_path2 = '../../VQA/images/train2014/COCO_train2014_000000000025.jpg'\n",
    "Image(filename = image_path1)\n",
    "print(train['questions'][100]['question'])"
   ]
  },
  {
   "cell_type": "code",
   "execution_count": 29,
   "metadata": {
    "collapsed": false
   },
   "outputs": [
    {
     "name": "stdout",
     "output_type": "stream",
     "text": [
      "2000\n"
     ]
    }
   ],
   "source": [
    "# I want all questions for 2000 images in the training dataset \n",
    "itoa = {}\n",
    "for q in train['questions']: \n",
    "    imgid = q['image_id']\n",
    "    #print(type(imgid))\n",
    "    if imgid in itoa:\n",
    "        itoa[imgid].append(q['question'])\n",
    "    elif (len(itoa) < 2000):\n",
    "        itoa[imgid] = []\n",
    "        itoa[imgid].append(q['question'])\n",
    "print(len(itoa))"
   ]
  },
  {
   "cell_type": "code",
   "execution_count": 30,
   "metadata": {
    "collapsed": false
   },
   "outputs": [
    {
     "data": {
      "text/plain": [
       "[u'What is this person doing?',\n",
       " u'How many people are in this image?',\n",
       " u'Is there a shadow of a tree in the foreground?',\n",
       " u'What is the man doing?',\n",
       " u'What color is the sky?',\n",
       " u'What is the person wearing?',\n",
       " u'Did someone forget his luggage in the snow?',\n",
       " u'What color is his coat?',\n",
       " u'Is it daytime?',\n",
       " u'What is she holding?',\n",
       " u'Is the person wearing a hat?']"
      ]
     },
     "execution_count": 30,
     "metadata": {},
     "output_type": "execute_result"
    }
   ],
   "source": [
    "itoa[393230]"
   ]
  },
  {
   "cell_type": "code",
   "execution_count": 39,
   "metadata": {
    "collapsed": false
   },
   "outputs": [],
   "source": [
    "subtype = 'train2014'\n",
    "imdir='%s/COCO_%s_%012d.jpg'\n",
    "out = []\n",
    "for key in itoa:\n",
    "    jimg = {}\n",
    "    jimg['file_path'] = imdir%(subtype, subtype, key)\n",
    "    jimg['id'] = key\n",
    "    jimg['captions'] = itoa[key]\n",
    "    out.append(jimg)\n",
    "json.dump(out, open('coco_raw.json', 'w'))"
   ]
  },
  {
   "cell_type": "code",
   "execution_count": 40,
   "metadata": {
    "collapsed": false
   },
   "outputs": [
    {
     "data": {
      "text/plain": [
       "{'captions': [u'What is this photo taken looking through?',\n",
       "  u'What position is this man playing?',\n",
       "  u'What color is the players shirt?',\n",
       "  u'Is this man a professional baseball player?'],\n",
       " 'file_path': 'train2014/COCO_train2014_000000458752.jpg',\n",
       " 'id': 458752}"
      ]
     },
     "execution_count": 40,
     "metadata": {},
     "output_type": "execute_result"
    }
   ],
   "source": [
    "out[0]"
   ]
  },
  {
   "cell_type": "code",
   "execution_count": null,
   "metadata": {
    "collapsed": true
   },
   "outputs": [],
   "source": []
  }
 ],
 "metadata": {
  "kernelspec": {
   "display_name": "Python 2",
   "language": "python",
   "name": "python2"
  },
  "language_info": {
   "codemirror_mode": {
    "name": "ipython",
    "version": 2
   },
   "file_extension": ".py",
   "mimetype": "text/x-python",
   "name": "python",
   "nbconvert_exporter": "python",
   "pygments_lexer": "ipython2",
   "version": "2.7.12"
  }
 },
 "nbformat": 4,
 "nbformat_minor": 2
}
