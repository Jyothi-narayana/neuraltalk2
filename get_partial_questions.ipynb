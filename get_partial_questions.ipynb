{
 "cells": [
  {
   "cell_type": "code",
   "execution_count": 1,
   "metadata": {
    "collapsed": false
   },
   "outputs": [
    {
     "name": "stdout",
     "output_type": "stream",
     "text": [
      "{u'image_id': 458752, u'question': u'What is this photo taken looking through?', u'question_id': 458752000}\n"
     ]
    }
   ],
   "source": [
    "import json\n",
    "# only load trianing data for now\n",
    "train = json.load(open('v2_OpenEnded_mscoco_train2014_questions.json', 'r'))\n",
    "print train['questions'][0]\n"
   ]
  },
  {
   "cell_type": "code",
   "execution_count": 30,
   "metadata": {
    "collapsed": false
   },
   "outputs": [
    {
     "name": "stdout",
     "output_type": "stream",
     "text": [
      "82783\n"
     ]
    }
   ],
   "source": [
    "partial_questions = {}\n",
    "for q in train['questions']:\n",
    "    imgid = q['image_id']\n",
    "    #print(type(imgid))\n",
    "    if imgid in partial_questions and len(partial_questions[imgid])<3:\n",
    "        partial_questions[imgid].append(q['question'])\n",
    "    else:\n",
    "        partial_questions[imgid] = []\n",
    "        partial_questions[imgid].append(q['question'])\n",
    "print(len(partial_questions))"
   ]
  },
  {
   "cell_type": "code",
   "execution_count": 31,
   "metadata": {
    "collapsed": false
   },
   "outputs": [],
   "source": [
    "out = []\n",
    "for key in partial_questions:\n",
    "    jimg = {}\n",
    "    i=0 #just in case we have <3 questions\n",
    "    for one_question in partial_questions[key]:\n",
    "        jimg[\"image_id\"] = key\n",
    "        jimg[\"question\"] = one_question\n",
    "        jimg[\"question_id\"] = key*1000+i #Eg 458752001, 458752002, 458752003\n",
    "        #if key==262146:\n",
    "            #print jimg\n",
    "        out.append(jimg.copy())\n",
    "        i+=1\n",
    "#print out\n",
    "json.dump(out, open('partial_questions.json', 'w'))"
   ]
  },
  {
   "cell_type": "code",
   "execution_count": 14,
   "metadata": {
    "collapsed": false
   },
   "outputs": [
    {
     "name": "stdout",
     "output_type": "stream",
     "text": [
      "[{u'image_id': 458752, u'question': u'Is this man a professional baseball player?', u'question_id': 458752000}, {u'image_id': 262146, u'question': u'What color is the persons headwear?', u'question_id': 262146002}, {u'image_id': 262146, u'question': u'What color is the persons headwear?', u'question_id': 262146002}, {u'image_id': 262146, u'question': u'What color is the persons headwear?', u'question_id': 262146002}, {u'image_id': 524291, u'question': u'Is the dog looking at a tennis ball or frisbee?', u'question_id': 524291002}, {u'image_id': 524291, u'question': u'Is the dog looking at a tennis ball or frisbee?', u'question_id': 524291002}, {u'image_id': 524291, u'question': u'Is the dog looking at a tennis ball or frisbee?', u'question_id': 524291002}, {u'image_id': 393221, u'question': u'What is the white streak?', u'question_id': 393221002}, {u'image_id': 393221, u'question': u'What is the white streak?', u'question_id': 393221002}, {u'image_id': 393221, u'question': u'What is the white streak?', u'question_id': 393221002}, {u'image_id': 393223, u'question': u'Is she brushing?', u'question_id': 393223000}, {u'image_id': 393224, u'question': u'Is the man wearing a plain tie?', u'question_id': 393224002}, {u'image_id': 393224, u'question': u'Is the man wearing a plain tie?', u'question_id': 393224002}, {u'image_id': 393224, u'question': u'Is the man wearing a plain tie?', u'question_id': 393224002}, {u'image_id': 524297, u'question': u'Was this photo taken recently?', u'question_id': 524297000}, {u'image_id': 393227, u'question': u\"Is the man's visor providing his face enough protection?\", u'question_id': 393227001}, {u'image_id': 393227, u'question': u\"Is the man's visor providing his face enough protection?\", u'question_id': 393227001}, {u'image_id': 131084, u'question': u'What is the man riding on?', u'question_id': 131084002}, {u'image_id': 131084, u'question': u'What is the man riding on?', u'question_id': 131084002}, {u'image_id': 131084, u'question': u'What is the man riding on?', u'question_id': 131084002}, {u'image_id': 131074, u'question': u'Are the windows the same size?', u'question_id': 131074002}, {u'image_id': 131074, u'question': u'Are the windows the same size?', u'question_id': 131074002}, {u'image_id': 131074, u'question': u'Are the windows the same size?', u'question_id': 131074002}, {u'image_id': 393230, u'question': u'What is this person doing?', u'question_id': 393230000}]\n"
     ]
    }
   ],
   "source": [
    "temp = json.load(open('partial_questions.json', 'r'))\n",
    "print temp"
   ]
  },
  {
   "cell_type": "code",
   "execution_count": null,
   "metadata": {
    "collapsed": true
   },
   "outputs": [],
   "source": []
  }
 ],
 "metadata": {
  "kernelspec": {
   "display_name": "Python 2",
   "language": "python",
   "name": "python2"
  },
  "language_info": {
   "codemirror_mode": {
    "name": "ipython",
    "version": 2
   },
   "file_extension": ".py",
   "mimetype": "text/x-python",
   "name": "python",
   "nbconvert_exporter": "python",
   "pygments_lexer": "ipython2",
   "version": "2.7.13"
  }
 },
 "nbformat": 4,
 "nbformat_minor": 2
}
