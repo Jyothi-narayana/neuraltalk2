{
 "cells": [
  {
   "cell_type": "code",
   "execution_count": 23,
   "metadata": {
    "collapsed": false
   },
   "outputs": [
    {
     "name": "stdout",
     "output_type": "stream",
     "text": [
      "1890\n"
     ]
    }
   ],
   "source": [
    "results = open(\"../results_val_sudset/output_val_images.txt\", \"r\")\n",
    "# results = open(\"../output_train_images.txt\", \"r\")\n",
    "# creating a list of dictionaries \n",
    "questions = []\n",
    "question = {}\n",
    "for idx,line in enumerate(results): \n",
    "    # first line in every 3 lines has the image ID\n",
    "    if (idx%3 == 0):\n",
    "        question = {}\n",
    "        question[\"image_id\"] = line[32:].split(\".jpg\")[0]\n",
    "    # second line has the question \n",
    "    if (idx%3 - 1 == 0):\n",
    "        question[\"question\"] = line.split(\":\")[1].strip() + \"?\"\n",
    "        question[\"question_id\"] = question[\"image_id\"] + \"000\"\n",
    "        #print(question)\n",
    "        questions.append(question)\n",
    "train = {\"questions\": questions}\n",
    "print(len(train['questions']))"
   ]
  },
  {
   "cell_type": "code",
   "execution_count": 24,
   "metadata": {
    "collapsed": false
   },
   "outputs": [],
   "source": [
    "import json\n",
    "with open('generated_questions.json', 'w') as f:\n",
    "     json.dump(train, f)"
   ]
  },
  {
   "cell_type": "code",
   "execution_count": 25,
   "metadata": {
    "collapsed": false
   },
   "outputs": [
    {
     "name": "stdout",
     "output_type": "stream",
     "text": [
      "{'image_id': '00000524282', 'question': 'what sport is this?', 'question_id': '00000524282000'}\n"
     ]
    }
   ],
   "source": [
    "print(train['questions'][0])"
   ]
  },
  {
   "cell_type": "code",
   "execution_count": 26,
   "metadata": {
    "collapsed": false
   },
   "outputs": [
    {
     "name": "stdout",
     "output_type": "stream",
     "text": [
      "{u'image_id': u'00000524282', u'question': u'what sport is this?', u'question_id': u'00000524282000'}\n"
     ]
    }
   ],
   "source": [
    "train = json.load(open('./generated_questions.json', 'r'))\n",
    "print(train['questions'][0])"
   ]
  },
  {
   "cell_type": "code",
   "execution_count": null,
   "metadata": {
    "collapsed": true
   },
   "outputs": [],
   "source": []
  }
 ],
 "metadata": {
  "anaconda-cloud": {},
  "kernelspec": {
   "display_name": "Python [conda env:py27]",
   "language": "python",
   "name": "conda-env-py27-py"
  },
  "language_info": {
   "codemirror_mode": {
    "name": "ipython",
    "version": 2
   },
   "file_extension": ".py",
   "mimetype": "text/x-python",
   "name": "python",
   "nbconvert_exporter": "python",
   "pygments_lexer": "ipython2",
   "version": "2.7.12"
  }
 },
 "nbformat": 4,
 "nbformat_minor": 1
}
